{
 "cells": [
  {
   "cell_type": "code",
   "execution_count": 1,
   "id": "b5d4fff3",
   "metadata": {},
   "outputs": [],
   "source": [
    "# Step 1: Import Libraries and Load the Model\n",
    "import numpy as np\n",
    "import tensorflow as tf\n",
    "from tensorflow.keras.datasets import imdb\n",
    "from tensorflow.keras.preprocessing import sequence\n",
    "from tensorflow.keras.models import load_model"
   ]
  },
  {
   "cell_type": "code",
   "execution_count": 2,
   "id": "a3b288c9",
   "metadata": {},
   "outputs": [],
   "source": [
    "#Load the imdb dataset and word index\n",
    "word_index = imdb.get_word_index()\n",
    "reverse_word_index = { value : key for key,value in word_index.items()}"
   ]
  },
  {
   "cell_type": "code",
   "execution_count": 3,
   "id": "319c6b35",
   "metadata": {},
   "outputs": [
    {
     "name": "stderr",
     "output_type": "stream",
     "text": [
      "WARNING:absl:Compiled the loaded model, but the compiled metrics have yet to be built. `model.compile_metrics` will be empty until you train or evaluate the model.\n"
     ]
    },
    {
     "data": {
      "text/html": [
       "<pre style=\"white-space:pre;overflow-x:auto;line-height:normal;font-family:Menlo,'DejaVu Sans Mono',consolas,'Courier New',monospace\"><span style=\"font-weight: bold\">Model: \"sequential_8\"</span>\n",
       "</pre>\n"
      ],
      "text/plain": [
       "\u001b[1mModel: \"sequential_8\"\u001b[0m\n"
      ]
     },
     "metadata": {},
     "output_type": "display_data"
    },
    {
     "data": {
      "text/html": [
       "<pre style=\"white-space:pre;overflow-x:auto;line-height:normal;font-family:Menlo,'DejaVu Sans Mono',consolas,'Courier New',monospace\">┏━━━━━━━━━━━━━━━━━━━━━━━━━━━━━━━━━┳━━━━━━━━━━━━━━━━━━━━━━━━┳━━━━━━━━━━━━━━━┓\n",
       "┃<span style=\"font-weight: bold\"> Layer (type)                    </span>┃<span style=\"font-weight: bold\"> Output Shape           </span>┃<span style=\"font-weight: bold\">       Param # </span>┃\n",
       "┡━━━━━━━━━━━━━━━━━━━━━━━━━━━━━━━━━╇━━━━━━━━━━━━━━━━━━━━━━━━╇━━━━━━━━━━━━━━━┩\n",
       "│ embedding_5 (<span style=\"color: #0087ff; text-decoration-color: #0087ff\">Embedding</span>)         │ (<span style=\"color: #00d7ff; text-decoration-color: #00d7ff\">None</span>, <span style=\"color: #00af00; text-decoration-color: #00af00\">500</span>, <span style=\"color: #00af00; text-decoration-color: #00af00\">128</span>)       │     <span style=\"color: #00af00; text-decoration-color: #00af00\">1,280,000</span> │\n",
       "├─────────────────────────────────┼────────────────────────┼───────────────┤\n",
       "│ simple_rnn_3 (<span style=\"color: #0087ff; text-decoration-color: #0087ff\">SimpleRNN</span>)        │ (<span style=\"color: #00d7ff; text-decoration-color: #00d7ff\">None</span>, <span style=\"color: #00af00; text-decoration-color: #00af00\">128</span>)            │        <span style=\"color: #00af00; text-decoration-color: #00af00\">32,896</span> │\n",
       "├─────────────────────────────────┼────────────────────────┼───────────────┤\n",
       "│ dense_3 (<span style=\"color: #0087ff; text-decoration-color: #0087ff\">Dense</span>)                 │ (<span style=\"color: #00d7ff; text-decoration-color: #00d7ff\">None</span>, <span style=\"color: #00af00; text-decoration-color: #00af00\">1</span>)              │           <span style=\"color: #00af00; text-decoration-color: #00af00\">129</span> │\n",
       "└─────────────────────────────────┴────────────────────────┴───────────────┘\n",
       "</pre>\n"
      ],
      "text/plain": [
       "┏━━━━━━━━━━━━━━━━━━━━━━━━━━━━━━━━━┳━━━━━━━━━━━━━━━━━━━━━━━━┳━━━━━━━━━━━━━━━┓\n",
       "┃\u001b[1m \u001b[0m\u001b[1mLayer (type)                   \u001b[0m\u001b[1m \u001b[0m┃\u001b[1m \u001b[0m\u001b[1mOutput Shape          \u001b[0m\u001b[1m \u001b[0m┃\u001b[1m \u001b[0m\u001b[1m      Param #\u001b[0m\u001b[1m \u001b[0m┃\n",
       "┡━━━━━━━━━━━━━━━━━━━━━━━━━━━━━━━━━╇━━━━━━━━━━━━━━━━━━━━━━━━╇━━━━━━━━━━━━━━━┩\n",
       "│ embedding_5 (\u001b[38;5;33mEmbedding\u001b[0m)         │ (\u001b[38;5;45mNone\u001b[0m, \u001b[38;5;34m500\u001b[0m, \u001b[38;5;34m128\u001b[0m)       │     \u001b[38;5;34m1,280,000\u001b[0m │\n",
       "├─────────────────────────────────┼────────────────────────┼───────────────┤\n",
       "│ simple_rnn_3 (\u001b[38;5;33mSimpleRNN\u001b[0m)        │ (\u001b[38;5;45mNone\u001b[0m, \u001b[38;5;34m128\u001b[0m)            │        \u001b[38;5;34m32,896\u001b[0m │\n",
       "├─────────────────────────────────┼────────────────────────┼───────────────┤\n",
       "│ dense_3 (\u001b[38;5;33mDense\u001b[0m)                 │ (\u001b[38;5;45mNone\u001b[0m, \u001b[38;5;34m1\u001b[0m)              │           \u001b[38;5;34m129\u001b[0m │\n",
       "└─────────────────────────────────┴────────────────────────┴───────────────┘\n"
      ]
     },
     "metadata": {},
     "output_type": "display_data"
    },
    {
     "data": {
      "text/html": [
       "<pre style=\"white-space:pre;overflow-x:auto;line-height:normal;font-family:Menlo,'DejaVu Sans Mono',consolas,'Courier New',monospace\"><span style=\"font-weight: bold\"> Total params: </span><span style=\"color: #00af00; text-decoration-color: #00af00\">1,313,027</span> (5.01 MB)\n",
       "</pre>\n"
      ],
      "text/plain": [
       "\u001b[1m Total params: \u001b[0m\u001b[38;5;34m1,313,027\u001b[0m (5.01 MB)\n"
      ]
     },
     "metadata": {},
     "output_type": "display_data"
    },
    {
     "data": {
      "text/html": [
       "<pre style=\"white-space:pre;overflow-x:auto;line-height:normal;font-family:Menlo,'DejaVu Sans Mono',consolas,'Courier New',monospace\"><span style=\"font-weight: bold\"> Trainable params: </span><span style=\"color: #00af00; text-decoration-color: #00af00\">1,313,025</span> (5.01 MB)\n",
       "</pre>\n"
      ],
      "text/plain": [
       "\u001b[1m Trainable params: \u001b[0m\u001b[38;5;34m1,313,025\u001b[0m (5.01 MB)\n"
      ]
     },
     "metadata": {},
     "output_type": "display_data"
    },
    {
     "data": {
      "text/html": [
       "<pre style=\"white-space:pre;overflow-x:auto;line-height:normal;font-family:Menlo,'DejaVu Sans Mono',consolas,'Courier New',monospace\"><span style=\"font-weight: bold\"> Non-trainable params: </span><span style=\"color: #00af00; text-decoration-color: #00af00\">0</span> (0.00 B)\n",
       "</pre>\n"
      ],
      "text/plain": [
       "\u001b[1m Non-trainable params: \u001b[0m\u001b[38;5;34m0\u001b[0m (0.00 B)\n"
      ]
     },
     "metadata": {},
     "output_type": "display_data"
    },
    {
     "data": {
      "text/html": [
       "<pre style=\"white-space:pre;overflow-x:auto;line-height:normal;font-family:Menlo,'DejaVu Sans Mono',consolas,'Courier New',monospace\"><span style=\"font-weight: bold\"> Optimizer params: </span><span style=\"color: #00af00; text-decoration-color: #00af00\">2</span> (12.00 B)\n",
       "</pre>\n"
      ],
      "text/plain": [
       "\u001b[1m Optimizer params: \u001b[0m\u001b[38;5;34m2\u001b[0m (12.00 B)\n"
      ]
     },
     "metadata": {},
     "output_type": "display_data"
    }
   ],
   "source": [
    "#Load the pretrained model\n",
    "model = load_model('simple_rnn.h5')\n",
    "model.summary()"
   ]
  },
  {
   "cell_type": "code",
   "execution_count": 4,
   "id": "a2d205f5",
   "metadata": {},
   "outputs": [
    {
     "data": {
      "text/plain": [
       "[array([[ 5.3511214e-01, -6.8388766e-01,  5.4722273e-01, ...,\n",
       "         -6.1730683e-01,  5.7684809e-01,  5.8668780e-01],\n",
       "        [ 3.0973233e-02, -6.7466013e-02,  7.3380522e-02, ...,\n",
       "         -2.4189370e-02, -2.0815132e-02,  6.7345224e-02],\n",
       "        [-1.2068852e-02, -7.0716791e-02, -5.5802689e-04, ...,\n",
       "         -5.1816486e-02, -2.1055147e-02, -1.6596438e-02],\n",
       "        ...,\n",
       "        [-6.0326308e-02, -7.5505584e-02, -3.0183047e-03, ...,\n",
       "         -6.3205712e-02, -9.8955788e-02,  4.1513778e-02],\n",
       "        [-6.6739670e-03,  1.2927505e-01,  1.4233300e-01, ...,\n",
       "          1.0225877e-01,  6.8077944e-02, -1.5338376e-01],\n",
       "        [-9.5591499e-03,  5.6425980e-03, -8.2040548e-02, ...,\n",
       "         -3.6465239e-02, -1.1011718e-01,  3.7777919e-01]], dtype=float32),\n",
       " array([[-0.08656365,  0.0424336 ,  0.06736815, ...,  0.03770062,\n",
       "         -0.01957953,  0.06465569],\n",
       "        [ 0.12565732,  0.04847264,  0.03442466, ...,  0.01626394,\n",
       "          0.13365802, -0.02515922],\n",
       "        [ 0.02945769,  0.05466429, -0.00743056, ..., -0.04464412,\n",
       "         -0.01973686, -0.11555862],\n",
       "        ...,\n",
       "        [-0.06564692, -0.06169453, -0.01254978, ..., -0.06525297,\n",
       "         -0.01925907, -0.08771795],\n",
       "        [-0.11165609,  0.07213586, -0.09335206, ..., -0.06185282,\n",
       "          0.02734383, -0.08464206],\n",
       "        [ 0.15843244,  0.05224056,  0.04872677, ..., -0.01682089,\n",
       "         -0.07175386,  0.04912119]], dtype=float32),\n",
       " array([[-0.00301004, -0.03986416,  0.18149927, ..., -0.14237219,\n",
       "          0.10694837, -0.03812525],\n",
       "        [ 0.06863021, -0.03520039,  0.04745528, ...,  0.0348324 ,\n",
       "         -0.06152978,  0.1578944 ],\n",
       "        [ 0.00459892, -0.25398168,  0.05624108, ...,  0.0708994 ,\n",
       "          0.02472936, -0.04611688],\n",
       "        ...,\n",
       "        [-0.01367562,  0.14870785,  0.03246733, ...,  0.03001412,\n",
       "         -0.03504299,  0.06577919],\n",
       "        [ 0.10198671, -0.02472877,  0.13678567, ..., -0.12555763,\n",
       "          0.02783848, -0.16256326],\n",
       "        [-0.06607992,  0.08972175, -0.04758718, ..., -0.02624398,\n",
       "          0.11265644,  0.06954994]], dtype=float32),\n",
       " array([-0.01678182, -0.00038826, -0.0291117 , -0.01828202, -0.03508361,\n",
       "        -0.01004923, -0.03167282,  0.04087804,  0.04135364, -0.00635998,\n",
       "         0.01470094, -0.02466137, -0.0282938 , -0.00170882,  0.00479737,\n",
       "        -0.00046741,  0.01299572,  0.00829226, -0.00993214, -0.00350967,\n",
       "         0.02867339, -0.01148443, -0.00974995, -0.00043876,  0.02055321,\n",
       "         0.01475118,  0.01128697, -0.01304218, -0.02924845,  0.03529198,\n",
       "        -0.00658377, -0.03004099, -0.01866529,  0.03867264, -0.00932285,\n",
       "         0.01881968,  0.00573879,  0.00637671, -0.00169079, -0.0081935 ,\n",
       "        -0.004034  , -0.00880027,  0.04108014, -0.0236483 , -0.02284316,\n",
       "        -0.02614871, -0.01509433, -0.02093956, -0.02034629, -0.00518921,\n",
       "         0.02513566,  0.01302264,  0.03113546, -0.02695782, -0.02996358,\n",
       "        -0.02487849,  0.01807318, -0.00652623, -0.00666653,  0.0399698 ,\n",
       "        -0.00437449, -0.01178861,  0.02996298,  0.03162193,  0.00171263,\n",
       "         0.00111487,  0.02817786, -0.02390101, -0.00816916, -0.02841322,\n",
       "         0.0326209 , -0.00485835, -0.02598312,  0.00851289,  0.00591216,\n",
       "         0.0084095 , -0.03771182,  0.01221194,  0.02699297, -0.00017168,\n",
       "         0.02689585,  0.00727693,  0.0292168 ,  0.01811242,  0.01042179,\n",
       "        -0.02784389, -0.00433886,  0.0236564 , -0.01840105, -0.04892001,\n",
       "        -0.00417498, -0.00325895, -0.0080167 ,  0.01544709, -0.03886817,\n",
       "        -0.00881507, -0.01286313, -0.01828474, -0.03241217, -0.02490078,\n",
       "        -0.00893531,  0.00951045, -0.01168774, -0.01079708, -0.00261495,\n",
       "        -0.00901638,  0.00944033,  0.00589084, -0.03395053, -0.0083916 ,\n",
       "        -0.01782245,  0.00148778, -0.01358791,  0.02684002, -0.02250817,\n",
       "        -0.01003166, -0.02529093, -0.01223311, -0.00143873,  0.03442868,\n",
       "        -0.00279549, -0.01951061,  0.01368556, -0.02180574, -0.01042268,\n",
       "        -0.02768301, -0.03894354,  0.0025502 ], dtype=float32),\n",
       " array([[ 7.16729313e-02],\n",
       "        [-1.51853070e-01],\n",
       "        [ 1.07986890e-01],\n",
       "        [ 9.69517827e-02],\n",
       "        [-1.32721841e-01],\n",
       "        [-7.93476626e-02],\n",
       "        [ 4.71483544e-03],\n",
       "        [ 8.57878178e-02],\n",
       "        [ 1.07992208e-02],\n",
       "        [-1.88522249e-01],\n",
       "        [ 5.43488003e-02],\n",
       "        [-3.06018814e-02],\n",
       "        [ 1.53861135e-01],\n",
       "        [ 2.12329719e-02],\n",
       "        [ 1.09916769e-01],\n",
       "        [ 5.39965034e-02],\n",
       "        [-5.09886220e-02],\n",
       "        [-1.41768351e-01],\n",
       "        [ 1.73646241e-01],\n",
       "        [-2.72605091e-01],\n",
       "        [-4.84137163e-02],\n",
       "        [ 6.44406080e-02],\n",
       "        [-8.61008614e-02],\n",
       "        [-4.23338152e-02],\n",
       "        [-1.73202828e-01],\n",
       "        [-2.27673382e-01],\n",
       "        [ 3.61601412e-02],\n",
       "        [-1.61442101e-01],\n",
       "        [-7.93524161e-02],\n",
       "        [ 3.64763010e-03],\n",
       "        [-5.46616092e-02],\n",
       "        [-5.18729612e-02],\n",
       "        [-5.27391657e-02],\n",
       "        [ 4.69844118e-02],\n",
       "        [ 7.12812170e-02],\n",
       "        [-7.01021329e-02],\n",
       "        [ 7.17725158e-02],\n",
       "        [ 1.58460081e-01],\n",
       "        [ 8.46891780e-05],\n",
       "        [ 1.40885383e-01],\n",
       "        [-5.91168692e-03],\n",
       "        [ 5.06916968e-03],\n",
       "        [ 1.79341406e-01],\n",
       "        [ 1.22779444e-01],\n",
       "        [-6.95970133e-02],\n",
       "        [-1.56540647e-02],\n",
       "        [-1.85304284e-01],\n",
       "        [-3.86212324e-03],\n",
       "        [ 1.01230949e-01],\n",
       "        [-6.23032898e-02],\n",
       "        [ 1.70874864e-01],\n",
       "        [-1.90746367e-01],\n",
       "        [-2.04541042e-01],\n",
       "        [ 1.06829423e-02],\n",
       "        [-2.38962159e-01],\n",
       "        [-3.64490226e-02],\n",
       "        [-1.05121724e-01],\n",
       "        [-6.28772527e-02],\n",
       "        [-5.11843979e-01],\n",
       "        [ 8.48331302e-02],\n",
       "        [ 1.47047222e-01],\n",
       "        [-3.12484407e+00],\n",
       "        [ 9.64903086e-02],\n",
       "        [-3.44437882e-02],\n",
       "        [-3.95033583e-02],\n",
       "        [-2.28650719e-01],\n",
       "        [ 1.19631566e-01],\n",
       "        [-1.40473247e-01],\n",
       "        [ 7.56855682e-02],\n",
       "        [ 3.39105986e-02],\n",
       "        [ 2.83608050e-03],\n",
       "        [-1.49259120e-01],\n",
       "        [-1.48048013e-01],\n",
       "        [-1.48973137e-01],\n",
       "        [-1.10058106e-01],\n",
       "        [-9.59298015e-02],\n",
       "        [-2.13029727e-01],\n",
       "        [-1.49593964e-01],\n",
       "        [-1.95916444e-02],\n",
       "        [ 1.66450515e-01],\n",
       "        [ 1.60327628e-01],\n",
       "        [-9.49450433e-02],\n",
       "        [ 3.00888643e-02],\n",
       "        [-3.99736650e-02],\n",
       "        [-9.19139534e-02],\n",
       "        [-3.73499654e-02],\n",
       "        [-6.88195601e-02],\n",
       "        [-1.62534937e-01],\n",
       "        [ 3.53039652e-02],\n",
       "        [-3.10206152e-02],\n",
       "        [-2.62366951e-01],\n",
       "        [-1.77666053e-01],\n",
       "        [ 1.50352135e-01],\n",
       "        [ 8.90927315e-02],\n",
       "        [ 2.02612758e-01],\n",
       "        [-3.04617614e-01],\n",
       "        [-3.10966760e-01],\n",
       "        [-6.20759651e-03],\n",
       "        [-1.83363765e-01],\n",
       "        [-1.25424802e-01],\n",
       "        [-2.05530286e-01],\n",
       "        [-1.91431046e-01],\n",
       "        [ 7.70139545e-02],\n",
       "        [-1.71819493e-01],\n",
       "        [ 1.00712396e-01],\n",
       "        [-8.45807269e-02],\n",
       "        [ 1.52111262e-01],\n",
       "        [-1.06707700e-01],\n",
       "        [-1.64423257e-01],\n",
       "        [-1.08908452e-02],\n",
       "        [-6.25552759e-02],\n",
       "        [-1.94776028e-01],\n",
       "        [ 1.14264324e-01],\n",
       "        [ 1.20998047e-01],\n",
       "        [-1.55599535e-01],\n",
       "        [-2.47947961e-01],\n",
       "        [-9.80423465e-02],\n",
       "        [-1.64460123e-01],\n",
       "        [ 2.26208419e-01],\n",
       "        [ 7.72556439e-02],\n",
       "        [-2.73025900e-01],\n",
       "        [ 2.24369485e-02],\n",
       "        [ 1.29130155e-01],\n",
       "        [-5.92756569e-02],\n",
       "        [ 1.04981393e-01],\n",
       "        [-5.30495681e-02],\n",
       "        [-3.95752192e-02],\n",
       "        [ 1.27693877e-01]], dtype=float32),\n",
       " array([-1.5416217], dtype=float32)]"
      ]
     },
     "execution_count": 4,
     "metadata": {},
     "output_type": "execute_result"
    }
   ],
   "source": [
    "model.get_weights()"
   ]
  },
  {
   "cell_type": "code",
   "execution_count": 5,
   "id": "a938c1f3",
   "metadata": {},
   "outputs": [],
   "source": [
    "#Step 2:Helper Function\n",
    "# Function to decode reviews\n",
    "def decode_review(encoded_review):\n",
    "    return ' '.join([reverse_word_index.get( i -3,'?') for i in encoded_review])\n",
    "\n",
    "# Function to preprocess user input\n",
    "def preprocess_text(text):\n",
    "    words = text.lower().split()\n",
    "    encoded_review =  [word_index.get(word ,2) + 3 for word in words]\n",
    "    padded_review = sequence.pad_sequences([encoded_review], maxlen=500)\n",
    "    return padded_review"
   ]
  },
  {
   "cell_type": "code",
   "execution_count": 6,
   "id": "30423c15",
   "metadata": {},
   "outputs": [],
   "source": [
    "##Prediction Function\n",
    "def prediction_sentiment(review):\n",
    "    preprocessed_input = preprocess_text(review)\n",
    "    prediction = model.predict(preprocessed_input)\n",
    "    \n",
    "    sentiment = 'Positive' if prediction[0][0] > 0.5 else 'Negative'\n",
    "    \n",
    "    return sentiment, prediction"
   ]
  },
  {
   "cell_type": "code",
   "execution_count": 8,
   "id": "3c5515b4",
   "metadata": {},
   "outputs": [
    {
     "name": "stdout",
     "output_type": "stream",
     "text": [
      "\u001b[1m1/1\u001b[0m \u001b[32m━━━━━━━━━━━━━━━━━━━━\u001b[0m\u001b[37m\u001b[0m \u001b[1m0s\u001b[0m 36ms/step\n",
      "Review: The Movie was fantastic! The acting was great and the plot wass thrilling.\n",
      "Sentiment: Positive\n",
      "Prediction Score: [[0.9999806]]\n"
     ]
    }
   ],
   "source": [
    "#Step 4: User Input and Prediction\n",
    "#Example review for prediction\n",
    "\n",
    "example_review = 'The Movie was fantastic! The acting was great and the plot wass thrilling.'\n",
    "\n",
    "sentiment,score = prediction_sentiment(example_review)\n",
    "\n",
    "print(f\"Review: {example_review}\")\n",
    "print(f\"Sentiment: {sentiment}\")\n",
    "print(f\"Prediction Score: {score}\")"
   ]
  },
  {
   "cell_type": "code",
   "execution_count": null,
   "id": "e5d6bddd",
   "metadata": {},
   "outputs": [],
   "source": []
  }
 ],
 "metadata": {
  "kernelspec": {
   "display_name": "base",
   "language": "python",
   "name": "python3"
  },
  "language_info": {
   "codemirror_mode": {
    "name": "ipython",
    "version": 3
   },
   "file_extension": ".py",
   "mimetype": "text/x-python",
   "name": "python",
   "nbconvert_exporter": "python",
   "pygments_lexer": "ipython3",
   "version": "3.12.3"
  }
 },
 "nbformat": 4,
 "nbformat_minor": 5
}
